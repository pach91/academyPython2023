{
 "cells": [
  {
   "cell_type": "code",
   "execution_count": 29,
   "id": "f2d025b6-f690-4732-8299-0bea28742532",
   "metadata": {},
   "outputs": [],
   "source": [
    "class listaAlunni:\n",
    "    \n",
    "    def __init__(self,registro):\n",
    "        self.registro = registro\n",
    "        \n",
    "    def toString(self):\n",
    "        print( self.registro)\n"
   ]
  },
  {
   "cell_type": "code",
   "execution_count": null,
   "id": "2eb727b3-ef4a-42ff-9905-1edd25ef8869",
   "metadata": {},
   "outputs": [],
   "source": []
  },
  {
   "cell_type": "code",
   "execution_count": 30,
   "id": "39de7d01-3891-4afd-b4be-74a6c1ee4182",
   "metadata": {},
   "outputs": [
    {
     "name": "stdout",
     "output_type": "stream",
     "text": [
      "{'Tizio': 3, 'Caio': 5, 'Sempronio': 10}\n"
     ]
    }
   ],
   "source": [
    "reg = { 'Tizio' : 3, 'Caio' :5, 'Sempronio' : 10}\n",
    "\n",
    "quintaC = listaAlunni(reg)\n",
    "quintaC.toString()"
   ]
  },
  {
   "cell_type": "code",
   "execution_count": 34,
   "id": "345cebba-1c31-4094-be5f-a1938d9a40a0",
   "metadata": {},
   "outputs": [],
   "source": [
    "class Alunno(listaAlunni):\n",
    "    \n",
    "    def __init__(self,registro, Mamma, Papa):\n",
    "        super().__init__(registro)\n",
    "        self.Mamma = Mamma\n",
    "        self.Papa = Papa\n",
    "    \n",
    "    def toString(self):\n",
    "        print( self.registro, self.Mamma, self.Papa)\n",
    "    "
   ]
  },
  {
   "cell_type": "code",
   "execution_count": 35,
   "id": "1ce867d4-273a-43fb-a043-8fcdc5e40a23",
   "metadata": {},
   "outputs": [
    {
     "name": "stdout",
     "output_type": "stream",
     "text": [
      "{'Tizio': 3} mama papi\n"
     ]
    }
   ],
   "source": [
    "analunno = Alunno( { 'Tizio' : 3} , 'mama', 'papi')\n",
    "analunno.toString()"
   ]
  },
  {
   "cell_type": "code",
   "execution_count": 36,
   "id": "23a082af-cf61-401c-8406-261643adfabd",
   "metadata": {},
   "outputs": [],
   "source": [
    "import string\n",
    "import random\n",
    "\n",
    "letters = string.ascii_lowercase"
   ]
  },
  {
   "cell_type": "code",
   "execution_count": 38,
   "id": "15a47ef4-5148-45da-a333-8fa8a0ac6b9b",
   "metadata": {},
   "outputs": [
    {
     "name": "stdin",
     "output_type": "stream",
     "text": [
      "digita EXIT se vuoi uscire, digita CREA per creare Classe:  EXIT\n"
     ]
    },
    {
     "name": "stdout",
     "output_type": "stream",
     "text": [
      "EXIT\n",
      "{'wfqr': 10} Mami Papi\n"
     ]
    }
   ],
   "source": [
    "while True:\n",
    "    scelta = input('digita EXIT se vuoi uscire, digita CREA per creare Classe: ')\n",
    "    print(scelta)\n",
    "    \n",
    "    if scelta == 'EXIT':                  #condizione per uscire\n",
    "        break\n",
    "           \n",
    "    elif scelta == 'CREA':              #crea classe genitore lista alunni\n",
    "        nAlunni = int(input('inserisci quanti alunni vuoi che la tua classe abbia: '))\n",
    "        registro = { } #questo è il parametro registro\n",
    "        \n",
    "        for i in range(nAlunni):\n",
    "            lungNome = random.randint(3,20)\n",
    "            nomeAlunno = ''.join(random.choice(letters) for i in range(lungNome))\n",
    "            voto = random.randint(0,10)\n",
    "            registro[nomeAlunno] = voto\n",
    "            #print(registro)\n",
    "            #print(lungNome, nomeAlunno, voto)\n",
    "            \n",
    "        classe = listaAlunni(registro) #assegno all'attributo registro il parametro registro che ho creato precedentemente\n",
    "           \n",
    "        print('questa è la tua classe', classe.registro)#L'OGGETTO PADRE SI CHIAMA CLASSE\n",
    "        \n",
    "        \n",
    "        flag = True\n",
    "        while flag:\n",
    "            \n",
    "            \n",
    "            choiche = input('vuoi creare un nuono oggetto nuovoAlunno? SI o NO')\n",
    "            \n",
    "            if choiche == 'NO':\n",
    "                flag = False\n",
    "            \n",
    "            elif choiche == 'SI':\n",
    "                print('questa è la tua classe', classe.registro)\n",
    "                alunno = input('digita il nome di un alunno che vuoi istanziare ')\n",
    "                \n",
    "                if alunno in classe.registro.keys():\n",
    "                    \n",
    "                    mamma = input('digita il nome della mamma')\n",
    "                    papa = input('il nome del papa')\n",
    "                    voto = {alunno : classe.registro[alunno]}\n",
    "                    \n",
    "                    nuovoAlunno = Alunno( voto, mamma, papa)\n",
    "                \n",
    "                else:\n",
    "                    print('questo alunno non esiste')\n",
    "                    continue\n",
    "            \n",
    "            else: #se non digito nulla di valido\n",
    "                print('SI o NO')\n",
    "        \n",
    "    \n",
    "    else: #se non digito nulla di valido\n",
    "        print('digita un comando valido')\n",
    "\n",
    "nuovoAlunno.toString()"
   ]
  },
  {
   "cell_type": "code",
   "execution_count": null,
   "id": "07242c82-5916-4d24-93c6-ceeef6c5139c",
   "metadata": {},
   "outputs": [],
   "source": []
  },
  {
   "cell_type": "code",
   "execution_count": null,
   "id": "946f20c2-99bd-4b58-8f12-7d111617ce7d",
   "metadata": {},
   "outputs": [],
   "source": []
  },
  {
   "cell_type": "code",
   "execution_count": null,
   "id": "b265fd40-4946-4d47-813e-251e45a048c3",
   "metadata": {},
   "outputs": [],
   "source": [
    "reg = { 'Tizio' : 3, 'Caio' :5, 'Sempronio' : 10}\n",
    "\n",
    "a = input"
   ]
  }
 ],
 "metadata": {
  "kernelspec": {
   "display_name": "Python 3 (ipykernel)",
   "language": "python",
   "name": "python3"
  },
  "language_info": {
   "codemirror_mode": {
    "name": "ipython",
    "version": 3
   },
   "file_extension": ".py",
   "mimetype": "text/x-python",
   "name": "python",
   "nbconvert_exporter": "python",
   "pygments_lexer": "ipython3",
   "version": "3.9.13"
  }
 },
 "nbformat": 4,
 "nbformat_minor": 5
}
