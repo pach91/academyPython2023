{
 "cells": [
  {
   "cell_type": "code",
   "execution_count": 2,
   "id": "0cf140f3-2132-4db9-a327-404ea6204dea",
   "metadata": {},
   "outputs": [
    {
     "name": "stdin",
     "output_type": "stream",
     "text": [
      "inserisci la parola da analizzare:  baobab\n"
     ]
    },
    {
     "name": "stdout",
     "output_type": "stream",
     "text": [
      "{'b': 3, 'a': 2, 'o': 1}\n"
     ]
    }
   ],
   "source": [
    "#Scrivi un programma che richieda all'utente di inserire una stringa e che conti quante volte ogni lettera appare nella stringa. \n",
    "#Il programma crea dizionario che ha come chiavi le lettere presenti nella stringa, mentre i valori il numero di volte che appare\n",
    "\n",
    "dictLettere = {}\n",
    "\n",
    "parola = input('inserisci la parola da analizzare: ')\n",
    "\n",
    "for i in parola:\n",
    "    if i not in dictLettere:\n",
    "        dictLettere[i] = 1\n",
    "    else:\n",
    "        dictLettere[i] += 1\n",
    "\n",
    "print(dictLettere)\n",
    "\n"
   ]
  }
 ],
 "metadata": {
  "kernelspec": {
   "display_name": "Python 3 (ipykernel)",
   "language": "python",
   "name": "python3"
  },
  "language_info": {
   "codemirror_mode": {
    "name": "ipython",
    "version": 3
   },
   "file_extension": ".py",
   "mimetype": "text/x-python",
   "name": "python",
   "nbconvert_exporter": "python",
   "pygments_lexer": "ipython3",
   "version": "3.9.13"
  }
 },
 "nbformat": 4,
 "nbformat_minor": 5
}
