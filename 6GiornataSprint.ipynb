{
 "cells": [
  {
   "cell_type": "code",
   "execution_count": null,
   "id": "ec2f93d4-b842-4138-a9c8-0498aa98f731",
   "metadata": {},
   "outputs": [],
   "source": [
    "#menu dei vari piatti nel ristorante CREARE UN SISTEMA DI ORDINAMENTO AD OGGETTI\n",
    "'''\n",
    "SI POSSONO ORDINARE 4 PIATTI FISSI, MODIFICARE UN PIATTO, O AVERE IL CONTO\n",
    "OGNI PIATRTO, HA NOME è PREZZO\n",
    "SE CHIEDIAMO IL CFONTO, CI DEVE CHIEDERE NOME E COGNOME E POI STAMPARE IL TOTALE E PIATTI A SCHERMO\n",
    "POI RITORNIAMO AL MENU INIZIALE'''\n",
    "\n"
   ]
  },
  {
   "cell_type": "code",
   "execution_count": 30,
   "id": "ba6abc83-8067-4e75-b309-e2d27038a243",
   "metadata": {},
   "outputs": [],
   "source": [
    "import random "
   ]
  },
  {
   "cell_type": "code",
   "execution_count": 31,
   "id": "e2ff4f17-0dae-4131-b8c9-b9e615506afd",
   "metadata": {},
   "outputs": [
    {
     "data": {
      "text/plain": [
       "7"
      ]
     },
     "execution_count": 31,
     "metadata": {},
     "output_type": "execute_result"
    }
   ],
   "source": [
    "random.randint(0,10)"
   ]
  },
  {
   "cell_type": "code",
   "execution_count": 5,
   "id": "c21ebcc8-4214-4fe8-949c-e7796ded2f55",
   "metadata": {},
   "outputs": [
    {
     "name": "stdout",
     "output_type": "stream",
     "text": [
      "{'brand': 'Ford', 'model': 'Mustang', 'year': 1964}\n"
     ]
    }
   ],
   "source": [
    "thisdict = {\n",
    "  \"brand\": \"Ford\",\n",
    "  \"model\": \"Mustang\",\n",
    "  \"year\": 1964\n",
    "}\n",
    "print(thisdict)"
   ]
  },
  {
   "cell_type": "code",
   "execution_count": 17,
   "id": "d604e504-c62e-4de0-be25-95b6b63729bf",
   "metadata": {},
   "outputs": [
    {
     "name": "stdout",
     "output_type": "stream",
     "text": [
      "ci sono\n"
     ]
    }
   ],
   "source": [
    "a = 'brand'\n",
    "\n",
    "if a in thisdict.keys():\n",
    "    print('ci sono')\n",
    "    "
   ]
  },
  {
   "cell_type": "code",
   "execution_count": 34,
   "id": "63519731-a297-4344-ad30-478aefb4c344",
   "metadata": {},
   "outputs": [],
   "source": [
    "'''oggetto ordinazione che tiene che piatti hai preso, chi lo ha preso e quanto ho speso'''\n",
    "\n",
    "class ordinazione:\n",
    "    menu ={\n",
    "    'bistecca' : 40,\n",
    "    'salsiccia': 10,\n",
    "    'tagliata':  25,\n",
    "    'agnello':   20 }\n",
    "    \n",
    "    ordine = []\n",
    "    totale = 0\n",
    "    \n",
    "    def ordina(self, scelta): #scelta sarà il nome del piatto scelto\n",
    "        self.ordine.append( [ scelta, self.menu[scelta] ] ) \n",
    "        \n",
    "    def conto(self):        \n",
    "        for i in self.ordine:\n",
    "            self.totale += i[1]         \n",
    "        #print(self.ordine, self.totale)\n",
    "        return self.totale\n",
    "    \n",
    "    def pulisci(self):\n",
    "        self.ordine.clear()\n",
    "        \n",
    "    def modifica(self,piatto,costoModifica):\n",
    "        self.ordine.append([piatto, self.menu[piatto] + costoModifica])\n",
    "    \n"
   ]
  },
  {
   "cell_type": "code",
   "execution_count": 36,
   "id": "0884c437-5923-4e09-8e04-605485de8ee0",
   "metadata": {},
   "outputs": [
    {
     "name": "stdin",
     "output_type": "stream",
     "text": [
      "digita EXIT se il ristorante non ti ispira, digita SIEDITI se ti ispira:  EXIT\n"
     ]
    },
    {
     "name": "stdout",
     "output_type": "stream",
     "text": [
      "EXIT\n"
     ]
    }
   ],
   "source": [
    "Aethelwulf = ordinazione() #il signor Aethelwulf è un'istanza della classe ordinazione\n",
    "\n",
    "while True:\n",
    "    scelta = input('digita EXIT se il ristorante non ti ispira, digita SIEDITI se ti ispira: ')\n",
    "    print(scelta)\n",
    "    \n",
    "    if scelta == 'EXIT':                  #condizione per uscire\n",
    "        break\n",
    "           \n",
    "    elif scelta == 'SIEDITI':              #nel ristorante\n",
    "        print('\\n hai scelto di sederti')\n",
    "        seduto = True\n",
    "        \n",
    "        while seduto:              #secondo switch\n",
    "            print('\\n sei seduto a tavola')\n",
    "            richiesta = input('prego digita ORDINA per ordinare, \\n CONTO se vuoi chiedere il conto, \\n MODIFICA per modificare il menù:')\n",
    "            \n",
    "            if richiesta == 'ORDINA':\n",
    "                print('questo è il menù del ristorante: \\n') \n",
    "                print(Aethelwulf.menu)\n",
    "                \n",
    "                piatto = input('ditita cosa ordinare: ')\n",
    "                if piatto in Aethelwulf.menu.keys():\n",
    "                    Aethelwulf.ordina(piatto)\n",
    "                else: \n",
    "                    print('Non hai scelto un piatto valido')\n",
    "                \n",
    "            elif richiesta == 'CONTO':\n",
    "                Nome_Cognome = input('digita in tuo Nome e Cognome: \\n')\n",
    "                Aethelwulf.conto\n",
    "                print(Nome_Cognome, Aethelwulf.ordine, Aethelwulf.totale) #non funziona il totale\n",
    "                #Aethelwulf.pulisci\n",
    "                seduto = False\n",
    "                \n",
    "            elif richiesta == 'MODIFICA':\n",
    "                print('questo è il menù del ristorante: \\n') \n",
    "                print(Aethelwulf.menu)\n",
    "                \n",
    "                piatto = input('digita cosa vuoi modificare: ')\n",
    "                if piatto in Aethelwulf.menu.keys():\n",
    "                    costoModifica = random.randint(0, Aethelwulf.menu[piatto] - 1)\n",
    "                    Aethelwulf.modifica(piatto, costoModifica)\n",
    "                else: \n",
    "                    print('Non hai scelto un piatto valido')\n",
    "                \n",
    "                \n",
    "                   \n",
    "            else:\n",
    "                print('prego scegli qualcosa di valido')\n",
    "            \n",
    "            \n",
    "            \n",
    "            \n",
    "            #seduto = False #da togliere quando lo facciamo girare\n",
    "            \n",
    "    else: #se non digito nulla di valido\n",
    "        print('digita un comando valido')\n",
    "\n",
    "        \n",
    "         "
   ]
  },
  {
   "cell_type": "code",
   "execution_count": null,
   "id": "0a99b11b-b389-4935-8a5f-55926766c038",
   "metadata": {},
   "outputs": [],
   "source": []
  }
 ],
 "metadata": {
  "kernelspec": {
   "display_name": "Python 3 (ipykernel)",
   "language": "python",
   "name": "python3"
  },
  "language_info": {
   "codemirror_mode": {
    "name": "ipython",
    "version": 3
   },
   "file_extension": ".py",
   "mimetype": "text/x-python",
   "name": "python",
   "nbconvert_exporter": "python",
   "pygments_lexer": "ipython3",
   "version": "3.9.13"
  }
 },
 "nbformat": 4,
 "nbformat_minor": 5
}
