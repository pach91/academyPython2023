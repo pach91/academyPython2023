{
 "cells": [
  {
   "cell_type": "code",
   "execution_count": null,
   "id": "ec2f93d4-b842-4138-a9c8-0498aa98f731",
   "metadata": {},
   "outputs": [],
   "source": [
    "#menu dei vari piatti nel ristorante CREARE UN SISTEMA DI ORDINAMENTO AD OGGETTI\n",
    "'''\n",
    "SI POSSONO ORDINARE 4 PIATTI FISSI, MODIFICARE UN PIATTO, O AVERE IL CONTO\n",
    "OGNI PIATRTO, HA NOME è PREZZO\n",
    "SE CHIEDIAMO IL CFONTO, CI DEVE CHIEDERE NOME E COGNOME E POI STAMPARE IL TOTALE E PIATTI A SCHERMO\n",
    "POI RITORNIAMO AL MENU INIZIALE'''\n",
    "\n"
   ]
  },
  {
   "cell_type": "code",
   "execution_count": 30,
   "id": "ba6abc83-8067-4e75-b309-e2d27038a243",
   "metadata": {},
   "outputs": [],
   "source": [
    "import random "
   ]
  },
  {
   "cell_type": "code",
   "execution_count": 46,
   "id": "c21ebcc8-4214-4fe8-949c-e7796ded2f55",
   "metadata": {},
   "outputs": [
    {
     "data": {
      "text/plain": [
       "'\\nthisdict = {\\n  \"brand\": \"Ford\",\\n  \"model\": \"Mustang\",\\n  \"year\": 1964\\n}\\nprint(thisdict)\\n\\na = \\'brand\\'\\n\\nif a in thisdict.keys():\\n    print(\\'ci sono\\')\\n    \\n\\n'"
      ]
     },
     "execution_count": 46,
     "metadata": {},
     "output_type": "execute_result"
    }
   ],
   "source": [
    "#tentativi per far girare il codice\n",
    "\n",
    "'''\n",
    "thisdict = {\n",
    "  \"brand\": \"Ford\",\n",
    "  \"model\": \"Mustang\",\n",
    "  \"year\": 1964\n",
    "}\n",
    "print(thisdict)\n",
    "\n",
    "a = 'brand'\n",
    "\n",
    "if a in thisdict.keys():\n",
    "    print('ci sono')\n",
    "    \n",
    "\n",
    "'''\n"
   ]
  },
  {
   "cell_type": "code",
   "execution_count": 61,
   "id": "63519731-a297-4344-ad30-478aefb4c344",
   "metadata": {},
   "outputs": [],
   "source": [
    "'''class ordinazione, lo usreremo su due script diversi, uno per il cliente e uno per il cuoco'''\n",
    "\n",
    "class ordinazione:\n",
    "    menu ={\n",
    "    'bistecca' : 40,\n",
    "    'salsiccia': 10,\n",
    "    'tagliata':  25,\n",
    "    'agnello':   20 }\n",
    "    \n",
    "    ordine = []\n",
    "    totale = 0\n",
    "    clienti= {}\n",
    "    \n",
    "     #queste sono i metodi per far funzionare il cliente\n",
    "    def ordina(self, scelta):\n",
    "        self.ordine.append( [ scelta, self.menu[scelta] ] ) \n",
    "        \n",
    "    def conto(self):        \n",
    "        for i in self.ordine:   #STO COSO NON FA IL TOTALE\n",
    "            self.totale += i[1]         \n",
    "        #print(self.ordine, self.totale) #sempre sto coso non printa\n",
    "        return self.totale\n",
    "    \n",
    "    def pulisci(self):\n",
    "        self.ordine.clear()\n",
    "        \n",
    "    def modifica(self,piatto,costoModifica):\n",
    "        self.ordine.append([piatto, self.menu[piatto] + costoModifica])\n",
    "    \n",
    "    #questi sono i metodi per il cuoco per far modificare il menu\n",
    "    def modiMenu_add(self,nomeNuovoPiatto):\n",
    "        self.menu[nomeNuovoPiatto] = random.randint(10,50)\n",
    "    \n",
    "    def modiMenu_del(self,nomePiattoRimosso):\n",
    "        del self.menu[nomePiattoRimosso]\n",
    "    \n",
    "    def modiMenu_priceAdjustment(self, nomePiattoModifica, Modifica):\n",
    "        self.menu[nomePiattoModifica] += Modifica\n",
    "    \n",
    "    #questo è il metodo Mark Zukemberg\n",
    "    def markZuckemberg(self,nomeCliente):\n",
    "        if nomeCliente not in self.clienti.keys():\n",
    "            self.clienti[nomeCliente] = [self.ordine]\n",
    "        else:\n",
    "            self.clienti[nomeCliente].append(self.ordine)\n",
    "            \n",
    "    "
   ]
  },
  {
   "cell_type": "code",
   "execution_count": 49,
   "id": "a85a7159-7ed2-4e14-9c6b-23e817482bbb",
   "metadata": {},
   "outputs": [
    {
     "name": "stdout",
     "output_type": "stream",
     "text": [
      "{'bistecca': 40, 'salsiccia': 7, 'tagliata': 25, 'agnello': 20, 'Ciambella': 18}\n",
      "{'bistecca': 40, 'salsiccia': 7, 'tagliata': 25, 'agnello': 20}\n",
      "{'bistecca': 40, 'salsiccia': 4, 'tagliata': 25, 'agnello': 20}\n"
     ]
    }
   ],
   "source": [
    "Jennifer = ordinazione()\n",
    "\n",
    "Jennifer.modiMenu_add('Ciambella')\n",
    "print(Jennifer.menu)\n",
    "\n",
    "Jennifer.modiMenu_del('Ciambella')\n",
    "print(Jennifer.menu)\n",
    "\n",
    "Jennifer.modiMenu_priceAdjustment('salsiccia', -3)\n",
    "print(Jennifer.menu)"
   ]
  },
  {
   "cell_type": "code",
   "execution_count": 44,
   "id": "0884c437-5923-4e09-8e04-605485de8ee0",
   "metadata": {},
   "outputs": [
    {
     "name": "stdin",
     "output_type": "stream",
     "text": [
      "digita EXIT se il ristorante non ti ispira, digita SIEDITI se ti ispira:  EXIT\n"
     ]
    },
    {
     "name": "stdout",
     "output_type": "stream",
     "text": [
      "EXIT\n"
     ]
    }
   ],
   "source": [
    "Aethelwulf = ordinazione() #il signor Aethelwulf è un'istanza della classe ordinazione\n",
    "\n",
    "\n",
    "'''Al ristorante'''\n",
    "while True:\n",
    "    scelta = input('digita EXIT se il ristorante non ti ispira, digita SIEDITI se ti ispira: ')\n",
    "    print(scelta)\n",
    "    \n",
    "    if scelta == 'EXIT':                  #condizione per uscire\n",
    "        break\n",
    "           \n",
    "    elif scelta == 'SIEDITI':              #nel ristorante\n",
    "        print('\\n hai scelto di sederti')\n",
    "        seduto = True\n",
    "        \n",
    "        while seduto:              #secondo switch\n",
    "            print('\\n sei seduto a tavola')\n",
    "            richiesta = input('prego digita ORDINA per ordinare, \\n CONTO se vuoi chiedere il conto, \\n MODIFICA per modificare il menù:')\n",
    "            \n",
    "            if richiesta == 'ORDINA':\n",
    "                print('questo è il menù del ristorante: \\n') \n",
    "                print(Aethelwulf.menu)\n",
    "                \n",
    "                piatto = input('ditita cosa ordinare: ')\n",
    "                if piatto in Aethelwulf.menu.keys():\n",
    "                    Aethelwulf.ordina(piatto)\n",
    "                else: \n",
    "                    print('Non hai scelto un piatto valido')\n",
    "                \n",
    "            elif richiesta == 'CONTO':\n",
    "                Nome_Cognome = input('digita in tuo Nome e Cognome: \\n')\n",
    "                Aethelwulf.conto\n",
    "                print(Nome_Cognome, Aethelwulf.ordine, Aethelwulf.totale) #non funziona il totale\n",
    "                #Aethelwulf.pulisci\n",
    "                seduto = False\n",
    "                \n",
    "            elif richiesta == 'MODIFICA':\n",
    "                print('questo è il menù del ristorante: \\n') \n",
    "                print(Aethelwulf.menu)\n",
    "                \n",
    "                piatto = input('digita cosa vuoi modificare: ')\n",
    "                if piatto in Aethelwulf.menu.keys():\n",
    "                    costoModifica = random.randint(0, Aethelwulf.menu[piatto] - 1)\n",
    "                    Aethelwulf.modifica(piatto, costoModifica)\n",
    "                else: \n",
    "                    print('Non hai scelto un piatto valido')\n",
    "                \n",
    "                \n",
    "                   \n",
    "            else:\n",
    "                print('prego scegli qualcosa di valido')\n",
    "            \n",
    "            \n",
    "            \n",
    "            \n",
    "            #seduto = False #da togliere quando lo facciamo girare\n",
    "            \n",
    "    else: #se non digito nulla di valido\n",
    "        print('digita un comando valido')\n",
    "\n",
    "        \n",
    "         "
   ]
  },
  {
   "cell_type": "code",
   "execution_count": 43,
   "id": "91eb7ca4-e002-4913-b85a-404a6b22c3f2",
   "metadata": {},
   "outputs": [
    {
     "data": {
      "text/plain": [
       "'Per il cuoco'"
      ]
     },
     "execution_count": 43,
     "metadata": {},
     "output_type": "execute_result"
    }
   ],
   "source": [
    "'''Per il cuoco'''\n",
    "\n"
   ]
  },
  {
   "cell_type": "code",
   "execution_count": null,
   "id": "2138c9d1-7443-4321-b536-053a4d520705",
   "metadata": {},
   "outputs": [],
   "source": [
    "Genoveffa = ordinazione()"
   ]
  },
  {
   "cell_type": "code",
   "execution_count": 56,
   "id": "0a99b11b-b389-4935-8a5f-55926766c038",
   "metadata": {
    "collapsed": true,
    "jupyter": {
     "outputs_hidden": true
    },
    "tags": []
   },
   "outputs": [
    {
     "name": "stdin",
     "output_type": "stream",
     "text": [
      "digita 'EXIT' se non vuoi più apportare modifiche, digita 'MODIFICA' se vuoi modificare:  MODIFICA\n"
     ]
    },
    {
     "name": "stdout",
     "output_type": "stream",
     "text": [
      "MODIFICA\n",
      "\n",
      " Hai scelto di modificare il menù di Genoveffa, questo e il menu attuale: \n",
      "\n",
      "{'bistecca': 40, 'salsiccia': 10, 'tagliata': 25, 'agnello': 20, 'Bob': 33.0}\n",
      "\n",
      "Seleziona l'operazione che vuoi eseguire\n",
      "1. Aggiungi un piatto\n",
      "2. Rimuovi un piatto dal menu\n",
      "3. Modifica un prezzo\n"
     ]
    },
    {
     "name": "stdin",
     "output_type": "stream",
     "text": [
      "Inserisci la tua scelta:  2\n",
      "Scegli il piatto da rimuovere: Bob\n"
     ]
    },
    {
     "name": "stdout",
     "output_type": "stream",
     "text": [
      "Hai rimosso il piatto  Bob\n"
     ]
    },
    {
     "name": "stdin",
     "output_type": "stream",
     "text": [
      "digita 'EXIT' se non vuoi più apportare modifiche, digita 'MODIFICA' se vuoi modificare:  MODIFICA\n"
     ]
    },
    {
     "name": "stdout",
     "output_type": "stream",
     "text": [
      "MODIFICA\n",
      "\n",
      " Hai scelto di modificare il menù di Genoveffa, questo e il menu attuale: \n",
      "\n",
      "{'bistecca': 40, 'salsiccia': 10, 'tagliata': 25, 'agnello': 20}\n",
      "\n",
      "Seleziona l'operazione che vuoi eseguire\n",
      "1. Aggiungi un piatto\n",
      "2. Rimuovi un piatto dal menu\n",
      "3. Modifica un prezzo\n"
     ]
    },
    {
     "name": "stdin",
     "output_type": "stream",
     "text": [
      "Inserisci la tua scelta:  1\n",
      "Come si chiama il nuovo piatto? 4\n"
     ]
    },
    {
     "name": "stdout",
     "output_type": "stream",
     "text": [
      "{'bistecca': 40, 'salsiccia': 10, 'tagliata': 25, 'agnello': 20, '4': 45}\n"
     ]
    },
    {
     "name": "stdin",
     "output_type": "stream",
     "text": [
      "digita 'EXIT' se non vuoi più apportare modifiche, digita 'MODIFICA' se vuoi modificare:  MODIFICA\n"
     ]
    },
    {
     "name": "stdout",
     "output_type": "stream",
     "text": [
      "MODIFICA\n",
      "\n",
      " Hai scelto di modificare il menù di Genoveffa, questo e il menu attuale: \n",
      "\n",
      "{'bistecca': 40, 'salsiccia': 10, 'tagliata': 25, 'agnello': 20, '4': 45}\n",
      "\n",
      "Seleziona l'operazione che vuoi eseguire\n",
      "1. Aggiungi un piatto\n",
      "2. Rimuovi un piatto dal menu\n",
      "3. Modifica un prezzo\n"
     ]
    },
    {
     "name": "stdin",
     "output_type": "stream",
     "text": [
      "Inserisci la tua scelta:  2\n",
      "Scegli il piatto da rimuovere: 4\n"
     ]
    },
    {
     "name": "stdout",
     "output_type": "stream",
     "text": [
      "Hai rimosso il piatto  4\n"
     ]
    },
    {
     "name": "stdin",
     "output_type": "stream",
     "text": [
      "digita 'EXIT' se non vuoi più apportare modifiche, digita 'MODIFICA' se vuoi modificare:  MODIFICA\n"
     ]
    },
    {
     "name": "stdout",
     "output_type": "stream",
     "text": [
      "MODIFICA\n",
      "\n",
      " Hai scelto di modificare il menù di Genoveffa, questo e il menu attuale: \n",
      "\n",
      "{'bistecca': 40, 'salsiccia': 10, 'tagliata': 25, 'agnello': 20}\n",
      "\n",
      "Seleziona l'operazione che vuoi eseguire\n",
      "1. Aggiungi un piatto\n",
      "2. Rimuovi un piatto dal menu\n",
      "3. Modifica un prezzo\n"
     ]
    },
    {
     "name": "stdin",
     "output_type": "stream",
     "text": [
      "Inserisci la tua scelta:  EX\n"
     ]
    },
    {
     "name": "stdout",
     "output_type": "stream",
     "text": [
      "digita un comando valido\n"
     ]
    },
    {
     "name": "stdin",
     "output_type": "stream",
     "text": [
      "digita 'EXIT' se non vuoi più apportare modifiche, digita 'MODIFICA' se vuoi modificare:  EXIT\n"
     ]
    },
    {
     "name": "stdout",
     "output_type": "stream",
     "text": [
      "EXIT\n"
     ]
    }
   ],
   "source": [
    "while True:\n",
    "    scelta = input(\"digita 'EXIT' se non vuoi più apportare modifiche, digita 'MODIFICA' se vuoi modificare: \")\n",
    "    print(scelta)\n",
    "    \n",
    "    if scelta == 'EXIT':                  #condizione per uscire\n",
    "        break\n",
    "           \n",
    "    elif scelta == 'MODIFICA': #stiamo modificando il piatto, entriamo nel nuovo switch\n",
    "        print('\\n Hai scelto di modificare il menù di Genoveffa, questo e il menu attuale: \\n')\n",
    "        print(Genoveffa.menu)\n",
    "        \n",
    "        \n",
    "        print(\"\\nSeleziona l'operazione che vuoi eseguire\")\n",
    "        print(\"1. Aggiungi un piatto\")\n",
    "        print(\"2. Rimuovi un piatto dal menu\")\n",
    "        print(\"3. Modifica un prezzo\")\n",
    "        \n",
    "        scelta_operazione = input(\"Inserisci la tua scelta: \")\n",
    "        \n",
    "        if scelta_operazione == '1': #qua si inserisce nuovo piatto\n",
    "            nuovoPiatto = input('Come si chiama il nuovo piatto?')\n",
    "            Genoveffa.modiMenu_add(nuovoPiatto)\n",
    "            print(Genoveffa.menu)\n",
    "            \n",
    "        elif scelta_operazione == '2': #per rimuovere un piatto, ci rimani dentro finche non scegli un piatto da rimuovere\n",
    "            azzeccaPiatto = True\n",
    "            \n",
    "            while azzeccaPiatto:\n",
    "                piattoRimosso = input('Scegli il piatto da rimuovere:')\n",
    "                \n",
    "                if piattoRimosso in Genoveffa.menu.keys():\n",
    "                    print('Hai rimosso il piatto ', piattoRimosso)\n",
    "                    Genoveffa.modiMenu_del(piattoRimosso)\n",
    "                    azzeccaPiatto = False\n",
    "                else:\n",
    "                    print('Scegli un piatto che esiste nel menu')\n",
    "                    print(Genoveffa.menu)\n",
    "        \n",
    "        elif scelta_operazione == '3': #\n",
    "            azzeccaPiatto = True\n",
    "                       \n",
    "            while azzeccaPiatto:\n",
    "                piattoModifica = input('Scegli il piatto del quale il prezzo va aggioranto: ')\n",
    "                \n",
    "                if piattoModifica in Genoveffa.menu.keys():\n",
    "                    \n",
    "                    prezzoModifica = float(input('Digita il valore, positivo o negativo che sia, di modifica del costo: '))\n",
    "                    print('Hai modificato il costo il piatto ', piattoModifica )\n",
    "                    Genoveffa.modiMenu_priceAdjustment(piattoModifica, prezzoModifica)\n",
    "                    azzeccaPiatto = False\n",
    "                \n",
    "                else:\n",
    "                    print('Scegli un piatto che esiste nel menu')\n",
    "                    print(Genoveffa.menu)\n",
    "        \n",
    "                                   \n",
    "        else: #se sciala nella scelta della modifica da apportare\n",
    "            print('digita un comando valido')\n",
    "        \n",
    "    else:  #se sciala in cosa fare\n",
    "         print('digita un comando valido')"
   ]
  },
  {
   "cell_type": "code",
   "execution_count": null,
   "id": "6b2f9271-27b1-4d70-9adb-263c50468cde",
   "metadata": {},
   "outputs": [],
   "source": []
  },
  {
   "cell_type": "code",
   "execution_count": 63,
   "id": "3e6a0c8f-0768-4463-a0e9-9647cb3b480f",
   "metadata": {},
   "outputs": [],
   "source": [
    "Grisella = ordinazione()"
   ]
  },
  {
   "cell_type": "code",
   "execution_count": 64,
   "id": "7daff5f9-5475-475d-a698-5a781e2566ea",
   "metadata": {},
   "outputs": [
    {
     "name": "stdin",
     "output_type": "stream",
     "text": [
      "digita EXIT se il ristorante non ti ispira, digita SIEDITI se ti ispira:  SIEDITI\n"
     ]
    },
    {
     "name": "stdout",
     "output_type": "stream",
     "text": [
      "SIEDITI\n",
      "\n",
      " hai scelto di sederti\n",
      "\n",
      " sei seduto a tavola\n"
     ]
    },
    {
     "name": "stdin",
     "output_type": "stream",
     "text": [
      "prego digita ORDINA per ordinare, \n",
      " CONTO se vuoi chiedere il conto, \n",
      " MODIFICA per modificare il menù: ORDINA\n"
     ]
    },
    {
     "name": "stdout",
     "output_type": "stream",
     "text": [
      "questo è il menù del ristorante: \n",
      "\n",
      "{'bistecca': 40, 'salsiccia': 10, 'tagliata': 25, 'agnello': 20}\n"
     ]
    },
    {
     "name": "stdin",
     "output_type": "stream",
     "text": [
      "ditita cosa ordinare:  bistecca\n"
     ]
    },
    {
     "name": "stdout",
     "output_type": "stream",
     "text": [
      "\n",
      " sei seduto a tavola\n"
     ]
    },
    {
     "name": "stdin",
     "output_type": "stream",
     "text": [
      "prego digita ORDINA per ordinare, \n",
      " CONTO se vuoi chiedere il conto, \n",
      " MODIFICA per modificare il menù: ORDINA\n"
     ]
    },
    {
     "name": "stdout",
     "output_type": "stream",
     "text": [
      "questo è il menù del ristorante: \n",
      "\n",
      "{'bistecca': 40, 'salsiccia': 10, 'tagliata': 25, 'agnello': 20}\n"
     ]
    },
    {
     "name": "stdin",
     "output_type": "stream",
     "text": [
      "ditita cosa ordinare:  bistecca\n"
     ]
    },
    {
     "name": "stdout",
     "output_type": "stream",
     "text": [
      "\n",
      " sei seduto a tavola\n"
     ]
    },
    {
     "name": "stdin",
     "output_type": "stream",
     "text": [
      "prego digita ORDINA per ordinare, \n",
      " CONTO se vuoi chiedere il conto, \n",
      " MODIFICA per modificare il menù: CONTO\n",
      "digita in tuo Nome e Cognome: \n",
      " Nicola Pacella\n"
     ]
    },
    {
     "name": "stdout",
     "output_type": "stream",
     "text": [
      "Nicola Pacella [['bistecca', 40], ['bistecca', 40]] 0\n"
     ]
    },
    {
     "name": "stdin",
     "output_type": "stream",
     "text": [
      "digita EXIT se il ristorante non ti ispira, digita SIEDITI se ti ispira:  EXIT\n"
     ]
    },
    {
     "name": "stdout",
     "output_type": "stream",
     "text": [
      "EXIT\n",
      "{'Nicola Pacella': [[['bistecca', 40], ['bistecca', 40]]]}\n"
     ]
    }
   ],
   "source": [
    "#EPISODIO 3, COPIOINCOLLO IL PRIMO ESERCIZIO, MA CI AGGIUNGO LA PARTE IN CUI MI FA IL PROFILO CLIENTE.\n",
    "#ME LA PENSO COSI, CREO UN DIZIONARIO CLIENTE: LISTA DI ORDINAZIONI, CHE E UNA LISTA\n",
    "\n",
    "'''Al ristorante'''\n",
    "while True:\n",
    "    scelta = input('digita EXIT se il ristorante non ti ispira, digita SIEDITI se ti ispira: ')\n",
    "    print(scelta)\n",
    "    \n",
    "    if scelta == 'EXIT':                  #condizione per uscire\n",
    "        print(Grisella.clienti)\n",
    "        break\n",
    "           \n",
    "    elif scelta == 'SIEDITI':              #nel ristorante\n",
    "        print('\\n hai scelto di sederti')\n",
    "        seduto = True\n",
    "        \n",
    "        while seduto:              #secondo switch\n",
    "            print('\\n sei seduto a tavola')\n",
    "            richiesta = input('prego digita ORDINA per ordinare, \\n CONTO se vuoi chiedere il conto, \\n MODIFICA per modificare il menù:')\n",
    "            \n",
    "            if richiesta == 'ORDINA':\n",
    "                print('questo è il menù del ristorante: \\n') \n",
    "                print(Grisella.menu)\n",
    "                \n",
    "                piatto = input('ditita cosa ordinare: ')\n",
    "                if piatto in Grisella.menu.keys():\n",
    "                    Grisella.ordina(piatto)\n",
    "                else: \n",
    "                    print('Non hai scelto un piatto valido')\n",
    "                \n",
    "            elif richiesta == 'CONTO':\n",
    "                Nome_Cognome = input('digita in tuo Nome e Cognome: \\n')\n",
    "                Grisella.markZuckemberg(Nome_Cognome)\n",
    "                Grisella.conto\n",
    "                print(Nome_Cognome, Grisella.ordine, Grisella.totale) #non funziona il totale\n",
    "                #Aethelwulf.pulisci\n",
    "                seduto = False\n",
    "                \n",
    "            elif richiesta == 'MODIFICA':\n",
    "                print('questo è il menù del ristorante: \\n') \n",
    "                print(Grisella.menu)\n",
    "                \n",
    "                piatto = input('digita cosa vuoi modificare: ')\n",
    "                if piatto in Grisella.menu.keys():\n",
    "                    costoModifica = random.randint(0, Grisella.menu[piatto] - 1)\n",
    "                    Grisella.modifica(piatto, costoModifica)\n",
    "                else: \n",
    "                    print('Non hai scelto un piatto valido')\n",
    "                \n",
    "                \n",
    "                   \n",
    "            else:\n",
    "                print('prego scegli qualcosa di valido')\n",
    "            \n",
    "            \n",
    "            \n",
    "            \n",
    "            #seduto = False #da togliere quando lo facciamo girare\n",
    "            \n",
    "    else: #se non digito nulla di valido\n",
    "        print('digita un comando valido')\n",
    "\n",
    "        "
   ]
  }
 ],
 "metadata": {
  "kernelspec": {
   "display_name": "Python 3 (ipykernel)",
   "language": "python",
   "name": "python3"
  },
  "language_info": {
   "codemirror_mode": {
    "name": "ipython",
    "version": 3
   },
   "file_extension": ".py",
   "mimetype": "text/x-python",
   "name": "python",
   "nbconvert_exporter": "python",
   "pygments_lexer": "ipython3",
   "version": "3.9.13"
  }
 },
 "nbformat": 4,
 "nbformat_minor": 5
}
