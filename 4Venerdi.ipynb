{
 "cells": [
  {
   "cell_type": "code",
   "execution_count": 2,
   "id": "0cf140f3-2132-4db9-a327-404ea6204dea",
   "metadata": {},
   "outputs": [
    {
     "name": "stdin",
     "output_type": "stream",
     "text": [
      "inserisci la parola da analizzare:  ciao\n"
     ]
    },
    {
     "name": "stdout",
     "output_type": "stream",
     "text": [
      "{'c': 1, 'i': 1, 'a': 1, 'o': 1}\n"
     ]
    }
   ],
   "source": [
    "#Scrivi un programma che richieda all'utente di inserire una stringa e che conti quante volte ogni lettera appare nella stringa. \n",
    "#Il programma crea dizionario che ha come chiavi le lettere presenti nella stringa, mentre i valori il numero di volte che appare\n",
    "\n",
    "dictLettere = {}\n",
    "\n",
    "parola = input('inserisci la parola da analizzare: ')\n",
    "\n",
    "for i in parola:\n",
    "    if i not in dictLettere:\n",
    "        dictLettere[i] = 1\n",
    "    else:\n",
    "        dictLettere[i] += 1\n",
    "\n",
    "print(dictLettere)\n",
    "\n"
   ]
  },
  {
   "cell_type": "code",
   "execution_count": 11,
   "id": "12daa3e2-40ce-4dbe-89b3-c6ae4d365687",
   "metadata": {},
   "outputs": [
    {
     "name": "stdout",
     "output_type": "stream",
     "text": [
      "{'#Scrivi': 1, 'un': 1, 'programma': 2, 'che': 4, 'richieda': 1, \"all'utente\": 1, 'di': 2, 'inserire': 1, 'una': 1, 'stringa': 1, 'e': 1, 'conti': 1, 'quante': 1, 'volte': 2, 'ogni': 1, 'lettera': 1, 'appare': 2, 'nella': 2, 'stringa.': 1, '#Il': 1, 'crea': 1, 'dizionario': 1, 'ha': 1, 'come': 1, 'chiavi': 1, 'le': 1, 'lettere': 1, 'presenti': 1, 'stringa,': 1, 'mentre': 1, 'i': 1, 'valori': 1, 'il': 1, 'numero': 1}\n"
     ]
    }
   ],
   "source": [
    "#Questa volta il dizionario deve contare le parole\n",
    "\n",
    "Frase = \"#Scrivi un programma che richieda all'utente di inserire una stringa e che conti quante volte ogni lettera appare nella stringa. #Il programma crea dizionario che ha come chiavi le lettere presenti nella stringa, mentre i valori il numero di volte che appare\"\n",
    "\n",
    "paroleInFrase = Frase.split()\n",
    "paroleInFrase\n",
    "\n",
    "dictParole= {}\n",
    "\n",
    "for i in paroleInFrase:\n",
    "    if i not in dictParole:\n",
    "        dictParole[i] = 1\n",
    "    else:\n",
    "        dictParole[i] += 1\n",
    "\n",
    "print(dictParole)"
   ]
  },
  {
   "cell_type": "code",
   "execution_count": 24,
   "id": "7b1ef9ee-e3d3-402d-8abb-ce1aceec8c1e",
   "metadata": {},
   "outputs": [
    {
     "name": "stdin",
     "output_type": "stream",
     "text": [
      "Digita quanti numeri vuoi inserire nella lista: 5\n",
      "Digita il 0 numero: 3\n",
      "Digita il 1 numero: 3\n",
      "Digita il 2 numero: 2\n",
      "Digita il 3 numero: 2\n",
      "Digita il 4 numero: 1\n"
     ]
    },
    {
     "name": "stdout",
     "output_type": "stream",
     "text": [
      "[3, 3, 2, 2, 1]\n",
      "[3, 2, 1]\n"
     ]
    }
   ],
   "source": [
    "'''\n",
    "Scrivere un programma che prenda una lista di numeri come input e rimuove i duplicati dalla lista, lasciando solo i valori \"unici\". \n",
    "L'ordine degli elementi nella lista deve rimanere invariato\n",
    "\n",
    "'''\n",
    "listaNumeri = []\n",
    "try:\n",
    "    numeroNumeri = int(input('Digita quanti numeri vuoi inserire nella lista:'))\n",
    "except:\n",
    "    print('non hai inserito un numero')\n",
    "    \n",
    "for i in range(numeroNumeri):\n",
    "    try:\n",
    "        numero = int(input(f'Digita il {i} numero:'))\n",
    "    except:\n",
    "        print('non hai inserito un numero')\n",
    "    listaNumeri.append(numero)\n",
    "\n",
    "print(listaNumeri)\n",
    "\n",
    "listaNuova = []\n",
    "\n",
    "for i in listaNumeri:\n",
    "    if i not in listaNuova:\n",
    "        listaNuova.append(i)\n",
    "print(listaNuova)"
   ]
  },
  {
   "cell_type": "code",
   "execution_count": 22,
   "id": "7f2b6935-b64a-4e0e-8f12-295ae2fce927",
   "metadata": {},
   "outputs": [
    {
     "ename": "NameError",
     "evalue": "name 'listaAuto' is not defined",
     "output_type": "error",
     "traceback": [
      "\u001b[1;31m---------------------------------------------------------------------------\u001b[0m",
      "\u001b[1;31mNameError\u001b[0m                                 Traceback (most recent call last)",
      "\u001b[1;32m~\\AppData\\Local\\Temp\\ipykernel_16692\\1769571614.py\u001b[0m in \u001b[0;36m<module>\u001b[1;34m\u001b[0m\n\u001b[1;32m----> 1\u001b[1;33m \u001b[1;33m[\u001b[0m\u001b[0mlistaAuto\u001b[0m\u001b[1;33m.\u001b[0m\u001b[0mappend\u001b[0m\u001b[1;33m(\u001b[0m\u001b[0mi\u001b[0m\u001b[1;33m)\u001b[0m \u001b[1;32mfor\u001b[0m \u001b[0mi\u001b[0m \u001b[1;32min\u001b[0m \u001b[0mlistaNuova\u001b[0m\u001b[1;33m]\u001b[0m\u001b[1;33m\u001b[0m\u001b[1;33m\u001b[0m\u001b[0m\n\u001b[0m",
      "\u001b[1;32m~\\AppData\\Local\\Temp\\ipykernel_16692\\1769571614.py\u001b[0m in \u001b[0;36m<listcomp>\u001b[1;34m(.0)\u001b[0m\n\u001b[1;32m----> 1\u001b[1;33m \u001b[1;33m[\u001b[0m\u001b[0mlistaAuto\u001b[0m\u001b[1;33m.\u001b[0m\u001b[0mappend\u001b[0m\u001b[1;33m(\u001b[0m\u001b[0mi\u001b[0m\u001b[1;33m)\u001b[0m \u001b[1;32mfor\u001b[0m \u001b[0mi\u001b[0m \u001b[1;32min\u001b[0m \u001b[0mlistaNuova\u001b[0m\u001b[1;33m]\u001b[0m\u001b[1;33m\u001b[0m\u001b[1;33m\u001b[0m\u001b[0m\n\u001b[0m",
      "\u001b[1;31mNameError\u001b[0m: name 'listaAuto' is not defined"
     ]
    }
   ],
   "source": [
    "[listaAuto.append(i) for i in listaNuova]"
   ]
  },
  {
   "cell_type": "code",
   "execution_count": null,
   "id": "c511f852-a521-4420-aa06-f9610a195e49",
   "metadata": {},
   "outputs": [],
   "source": []
  },
  {
   "cell_type": "code",
   "execution_count": null,
   "id": "d7bf02ef-ace5-4fe6-a5bd-5213f9fd6051",
   "metadata": {},
   "outputs": [],
   "source": []
  },
  {
   "cell_type": "code",
   "execution_count": 16,
   "id": "1be2ef76-922c-4c15-853a-d5db90d7c4b3",
   "metadata": {},
   "outputs": [
    {
     "ename": "AttributeError",
     "evalue": "'str' object has no attribute 'is_stop'",
     "output_type": "error",
     "traceback": [
      "\u001b[1;31m---------------------------------------------------------------------------\u001b[0m",
      "\u001b[1;31mAttributeError\u001b[0m                            Traceback (most recent call last)",
      "\u001b[1;32m~\\AppData\\Local\\Temp\\ipykernel_16692\\1003759.py\u001b[0m in \u001b[0;36m<module>\u001b[1;34m\u001b[0m\n\u001b[0;32m      2\u001b[0m \u001b[0mnpl\u001b[0m \u001b[1;33m=\u001b[0m \u001b[0mspacy\u001b[0m\u001b[1;33m.\u001b[0m\u001b[0mload\u001b[0m\u001b[1;33m(\u001b[0m\u001b[1;34m\"en_core_web_sm\"\u001b[0m\u001b[1;33m)\u001b[0m\u001b[1;33m\u001b[0m\u001b[1;33m\u001b[0m\u001b[0m\n\u001b[0;32m      3\u001b[0m \u001b[1;33m\u001b[0m\u001b[0m\n\u001b[1;32m----> 4\u001b[1;33m \u001b[0mfrasePulita\u001b[0m \u001b[1;33m=\u001b[0m \u001b[1;33m[\u001b[0m\u001b[0mparola\u001b[0m\u001b[1;33m.\u001b[0m\u001b[0mlemma_\u001b[0m \u001b[1;32mfor\u001b[0m \u001b[0mparola\u001b[0m \u001b[1;32min\u001b[0m \u001b[0mFrase\u001b[0m \u001b[1;32mif\u001b[0m \u001b[1;32mnot\u001b[0m \u001b[0mparola\u001b[0m\u001b[1;33m.\u001b[0m\u001b[0mis_stop\u001b[0m\u001b[1;33m]\u001b[0m\u001b[1;33m\u001b[0m\u001b[1;33m\u001b[0m\u001b[0m\n\u001b[0m",
      "\u001b[1;32m~\\AppData\\Local\\Temp\\ipykernel_16692\\1003759.py\u001b[0m in \u001b[0;36m<listcomp>\u001b[1;34m(.0)\u001b[0m\n\u001b[0;32m      2\u001b[0m \u001b[0mnpl\u001b[0m \u001b[1;33m=\u001b[0m \u001b[0mspacy\u001b[0m\u001b[1;33m.\u001b[0m\u001b[0mload\u001b[0m\u001b[1;33m(\u001b[0m\u001b[1;34m\"en_core_web_sm\"\u001b[0m\u001b[1;33m)\u001b[0m\u001b[1;33m\u001b[0m\u001b[1;33m\u001b[0m\u001b[0m\n\u001b[0;32m      3\u001b[0m \u001b[1;33m\u001b[0m\u001b[0m\n\u001b[1;32m----> 4\u001b[1;33m \u001b[0mfrasePulita\u001b[0m \u001b[1;33m=\u001b[0m \u001b[1;33m[\u001b[0m\u001b[0mparola\u001b[0m\u001b[1;33m.\u001b[0m\u001b[0mlemma_\u001b[0m \u001b[1;32mfor\u001b[0m \u001b[0mparola\u001b[0m \u001b[1;32min\u001b[0m \u001b[0mFrase\u001b[0m \u001b[1;32mif\u001b[0m \u001b[1;32mnot\u001b[0m \u001b[0mparola\u001b[0m\u001b[1;33m.\u001b[0m\u001b[0mis_stop\u001b[0m\u001b[1;33m]\u001b[0m\u001b[1;33m\u001b[0m\u001b[1;33m\u001b[0m\u001b[0m\n\u001b[0m",
      "\u001b[1;31mAttributeError\u001b[0m: 'str' object has no attribute 'is_stop'"
     ]
    }
   ],
   "source": [
    "import spacy\n",
    "npl = spacy.load(\"en_core_web_sm\")\n",
    "\n",
    "frasePulita = [parola.lemma_ for parola in Frase if not parola.is_stop]"
   ]
  },
  {
   "cell_type": "code",
   "execution_count": 10,
   "id": "f59e1dcc-b005-40cf-8ae4-d5e5cd5cf117",
   "metadata": {},
   "outputs": [
    {
     "data": {
      "text/plain": [
       "\"#scrivi un programma che richieda all'utente di inserire una stringa e che conti quante volte ogni lettera appare nella stringa. #il programma crea dizionario che ha come chiavi le lettere presenti nella stringa, mentre i valori il numero di volte che appare\""
      ]
     },
     "execution_count": 10,
     "metadata": {},
     "output_type": "execute_result"
    }
   ],
   "source": [
    "Frase.lower()"
   ]
  },
  {
   "cell_type": "code",
   "execution_count": 8,
   "id": "366cc592-cc56-4a58-b95a-3cbf3daf7bcd",
   "metadata": {},
   "outputs": [
    {
     "name": "stdout",
     "output_type": "stream",
     "text": [
      "<class 'str'>\n",
      "Noun phrases: ['Sebastian Thrun', 'self-driving cars', 'Google', 'few people', 'the company', 'him', 'I', 'you', 'very senior CEOs', 'major American car companies', 'my hand', 'I', 'Thrun', 'an interview', 'Recode']\n",
      "Verbs: ['start', 'work', 'drive', 'take', 'tell', 'shake', 'turn', 'talk', 'say']\n",
      "Sebastian Thrun PERSON\n",
      "2007 DATE\n",
      "American NORP\n",
      "Thrun PERSON\n",
      "Recode ORG\n",
      "earlier this week DATE\n"
     ]
    }
   ],
   "source": [
    "'''\n",
    "import spacy\n",
    "\n",
    "# Load English tokenizer, tagger, parser and NER\n",
    "nlp = spacy.load(\"en_core_web_sm\")\n",
    "\n",
    "# Process whole documents\n",
    "text = (\"When Sebastian Thrun started working on self-driving cars at \"\n",
    "        \"Google in 2007, few people outside of the company took him \"\n",
    "        \"seriously. “I can tell you very senior CEOs of major American \"\n",
    "        \"car companies would shake my hand and turn away because I wasn’t \"\n",
    "        \"worth talking to,” said Thrun, in an interview with Recode earlier \"\n",
    "        \"this week.\")\n",
    "print(type(text))\n",
    "doc = nlp(text)\n",
    "\n",
    "# Analyze syntax\n",
    "print(\"Noun phrases:\", [chunk.text for chunk in doc.noun_chunks])\n",
    "print(\"Verbs:\", [token.lemma_ for token in doc if token.pos_ == \"VERB\"])\n",
    "\n",
    "# Find named entities, phrases and concepts\n",
    "for entity in doc.ents:\n",
    "    print(entity.text, entity.label_)\n",
    "    '''"
   ]
  }
 ],
 "metadata": {
  "kernelspec": {
   "display_name": "Python 3 (ipykernel)",
   "language": "python",
   "name": "python3"
  },
  "language_info": {
   "codemirror_mode": {
    "name": "ipython",
    "version": 3
   },
   "file_extension": ".py",
   "mimetype": "text/x-python",
   "name": "python",
   "nbconvert_exporter": "python",
   "pygments_lexer": "ipython3",
   "version": "3.9.13"
  }
 },
 "nbformat": 4,
 "nbformat_minor": 5
}
