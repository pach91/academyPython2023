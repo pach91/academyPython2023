{
 "cells": [
  {
   "cell_type": "code",
   "execution_count": 2,
   "id": "0cf140f3-2132-4db9-a327-404ea6204dea",
   "metadata": {},
   "outputs": [
    {
     "name": "stdin",
     "output_type": "stream",
     "text": [
      "inserisci la parola da analizzare:  ciao\n"
     ]
    },
    {
     "name": "stdout",
     "output_type": "stream",
     "text": [
      "{'c': 1, 'i': 1, 'a': 1, 'o': 1}\n"
     ]
    }
   ],
   "source": [
    "#Scrivi un programma che richieda all'utente di inserire una stringa e che conti quante volte ogni lettera appare nella stringa. \n",
    "#Il programma crea dizionario che ha come chiavi le lettere presenti nella stringa, mentre i valori il numero di volte che appare\n",
    "\n",
    "dictLettere = {}\n",
    "\n",
    "parola = input('inserisci la parola da analizzare: ')\n",
    "\n",
    "for i in parola:\n",
    "    if i not in dictLettere:\n",
    "        dictLettere[i] = 1\n",
    "    else:\n",
    "        dictLettere[i] += 1\n",
    "\n",
    "print(dictLettere)\n",
    "\n"
   ]
  },
  {
   "cell_type": "code",
   "execution_count": 4,
   "id": "12daa3e2-40ce-4dbe-89b3-c6ae4d365687",
   "metadata": {},
   "outputs": [
    {
     "name": "stdout",
     "output_type": "stream",
     "text": [
      "{'#Scrivi': 1, 'un': 1, 'programma': 2, 'che': 4, 'richieda': 1, \"all'utente\": 1, 'di': 2, 'inserire': 1, 'una': 1, 'stringa': 1, 'e': 1, 'conti': 1, 'quante': 1, 'volte': 2, 'ogni': 1, 'lettera': 1, 'appare': 2, 'nella': 2, 'stringa.': 1, '#Il': 1, 'crea': 1, 'dizionario': 1, 'ha': 1, 'come': 1, 'chiavi': 1, 'le': 1, 'lettere': 1, 'presenti': 1, 'stringa,': 1, 'mentre': 1, 'i': 1, 'valori': 1, 'il': 1, 'numero': 1}\n"
     ]
    }
   ],
   "source": [
    "#Questa volta il dizionario deve contare le parole\n",
    "\n",
    "Frase = \"#Scrivi un programma che richieda all'utente di inserire una stringa e che conti quante volte ogni lettera appare nella stringa. #Il programma crea dizionario che ha come chiavi le lettere presenti nella stringa, mentre i valori il numero di volte che appare\"\n",
    "\n",
    "paroleInFrase = Frase.split()\n",
    "paroleInFrase\n",
    "\n",
    "dictParole= {}\n",
    "\n",
    "for i in paroleInFrase:\n",
    "    if i not in dictParole:\n",
    "        dictParole[i] = 1\n",
    "    else:\n",
    "        dictParole[i] += 1\n",
    "\n",
    "print(dictParole)"
   ]
  }
 ],
 "metadata": {
  "kernelspec": {
   "display_name": "Python 3 (ipykernel)",
   "language": "python",
   "name": "python3"
  },
  "language_info": {
   "codemirror_mode": {
    "name": "ipython",
    "version": 3
   },
   "file_extension": ".py",
   "mimetype": "text/x-python",
   "name": "python",
   "nbconvert_exporter": "python",
   "pygments_lexer": "ipython3",
   "version": "3.9.13"
  }
 },
 "nbformat": 4,
 "nbformat_minor": 5
}
